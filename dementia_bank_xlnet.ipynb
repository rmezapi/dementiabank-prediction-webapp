{
  "nbformat": 4,
  "nbformat_minor": 0,
  "metadata": {
    "colab": {
      "provenance": [],
      "machine_shape": "hm",
      "gpuType": "L4",
      "authorship_tag": "ABX9TyPHyFUMPhev0juCaixSQoxW"
    },
    "kernelspec": {
      "name": "python3",
      "display_name": "Python 3"
    },
    "language_info": {
      "name": "python"
    },
    "accelerator": "GPU"
  },
  "cells": [
    {
      "cell_type": "code",
      "execution_count": 25,
      "metadata": {
        "id": "vBgklQYNOIUE"
      },
      "outputs": [],
      "source": [
        "import torch\n",
        "from torch.utils.data import Dataset, DataLoader\n",
        "from transformers import XLNetTokenizer, XLNetForSequenceClassification, AdamW, AutoTokenizer\n",
        "from sklearn.model_selection import train_test_split\n",
        "from sklearn.metrics import accuracy_score, f1_score\n",
        "import pandas as pd\n",
        "\n",
        "#!pip install datasets\n",
        "from datasets import load_dataset"
      ]
    },
    {
      "cell_type": "markdown",
      "source": [
        "Model and tokenizer definitions."
      ],
      "metadata": {
        "id": "LWPVPE0jSiuy"
      }
    },
    {
      "cell_type": "code",
      "source": [
        "model = \"xlnet-base-cased\"\n",
        "tokenizer = XLNetTokenizer.from_pretrained(model)\n",
        "model = XLNetForSequenceClassification.from_pretrained(model, num_labels=2)  # Adjust num_labels based on your ground truth"
      ],
      "metadata": {
        "colab": {
          "base_uri": "https://localhost:8080/"
        },
        "id": "1tUleZYGRj6g",
        "outputId": "c4fbe8f8-84c0-4001-aaa8-a22f51e2b927"
      },
      "execution_count": 26,
      "outputs": [
        {
          "output_type": "stream",
          "name": "stderr",
          "text": [
            "Some weights of XLNetForSequenceClassification were not initialized from the model checkpoint at xlnet-base-cased and are newly initialized: ['logits_proj.bias', 'logits_proj.weight', 'sequence_summary.summary.bias', 'sequence_summary.summary.weight']\n",
            "You should probably TRAIN this model on a down-stream task to be able to use it for predictions and inference.\n"
          ]
        }
      ]
    },
    {
      "cell_type": "code",
      "source": [
        "device = torch.device('cuda' if torch.cuda.is_available() else 'cpu')\n",
        "model.to(device)"
      ],
      "metadata": {
        "colab": {
          "base_uri": "https://localhost:8080/"
        },
        "id": "LukV5zxPYxwh",
        "outputId": "83b59994-0dda-4c2b-eceb-edfd21c16716"
      },
      "execution_count": 27,
      "outputs": [
        {
          "output_type": "execute_result",
          "data": {
            "text/plain": [
              "XLNetForSequenceClassification(\n",
              "  (transformer): XLNetModel(\n",
              "    (word_embedding): Embedding(32000, 768)\n",
              "    (layer): ModuleList(\n",
              "      (0-11): 12 x XLNetLayer(\n",
              "        (rel_attn): XLNetRelativeAttention(\n",
              "          (layer_norm): LayerNorm((768,), eps=1e-12, elementwise_affine=True)\n",
              "          (dropout): Dropout(p=0.1, inplace=False)\n",
              "        )\n",
              "        (ff): XLNetFeedForward(\n",
              "          (layer_norm): LayerNorm((768,), eps=1e-12, elementwise_affine=True)\n",
              "          (layer_1): Linear(in_features=768, out_features=3072, bias=True)\n",
              "          (layer_2): Linear(in_features=3072, out_features=768, bias=True)\n",
              "          (dropout): Dropout(p=0.1, inplace=False)\n",
              "          (activation_function): GELUActivation()\n",
              "        )\n",
              "        (dropout): Dropout(p=0.1, inplace=False)\n",
              "      )\n",
              "    )\n",
              "    (dropout): Dropout(p=0.1, inplace=False)\n",
              "  )\n",
              "  (sequence_summary): SequenceSummary(\n",
              "    (summary): Linear(in_features=768, out_features=768, bias=True)\n",
              "    (activation): Tanh()\n",
              "    (first_dropout): Identity()\n",
              "    (last_dropout): Dropout(p=0.1, inplace=False)\n",
              "  )\n",
              "  (logits_proj): Linear(in_features=768, out_features=2, bias=True)\n",
              ")"
            ]
          },
          "metadata": {},
          "execution_count": 27
        }
      ]
    },
    {
      "cell_type": "markdown",
      "source": [
        "Dataset prep\n"
      ],
      "metadata": {
        "id": "08Ok7_exTjbR"
      }
    },
    {
      "cell_type": "code",
      "source": [
        "class DementiaBankDataset(Dataset):\n",
        "    def __init__(self, texts, labels, tokenizer, max_length):\n",
        "        self.texts = texts\n",
        "        self.labels = labels\n",
        "        self.tokenizer = tokenizer\n",
        "        self.max_length = max_length\n",
        "\n",
        "    def __len__(self):\n",
        "        return len(self.texts)\n",
        "\n",
        "    def __getitem__(self, idx):\n",
        "        # print(f\"Accessing index: {idx}, Length of texts: {len(self.texts)}\")\n",
        "        if idx >= len(self.texts):\n",
        "            raise IndexError(f\"Index {idx} is out of bounds for texts with length {len(self.texts)}\")\n",
        "         # Convert the text to a list to handle potential non-standard indexing\n",
        "        text = self.texts.tolist()[idx]\n",
        "        label = self.labels.iloc[idx]  # Use iloc for integer-location based indexing\n",
        "\n",
        "        encoding = self.tokenizer.encode_plus(\n",
        "            text,\n",
        "            add_special_tokens=True,\n",
        "            max_length=self.max_length,\n",
        "            padding='max_length',\n",
        "            truncation=True,\n",
        "            return_tensors='pt'\n",
        "        )\n",
        "\n",
        "        return {\n",
        "            'input_ids': encoding['input_ids'].flatten(),\n",
        "            'attention_mask': encoding['attention_mask'].flatten(),\n",
        "            'labels': torch.tensor(label, dtype=torch.long)\n",
        "        }"
      ],
      "metadata": {
        "id": "z9duvDBVShqc"
      },
      "execution_count": 28,
      "outputs": []
    },
    {
      "cell_type": "markdown",
      "source": [
        "Load data"
      ],
      "metadata": {
        "id": "mfFhnlCHUDbn"
      }
    },
    {
      "cell_type": "code",
      "source": [
        "# load dataset\n",
        "ds = load_dataset(\"Ak000/Dementia_Bank_Train\")\n",
        "\n",
        "# remove the useless 'instruction' column\n",
        "ds = ds.remove_columns('instruction')\n",
        "\n",
        "# rename the 'input' column to 'text'\n",
        "ds = ds.rename_column('input', 'text')\n",
        "\n",
        "# map 'dementia' to 1 and 'control' to 0 so we make it a pandas df\n",
        "df = ds['train'].to_pandas()\n",
        "df['ground_truth'] = (df['output'] == 'dementia')\n",
        "df['ground_truth'] = df['ground_truth'].astype(int)\n",
        "df.head()\n"
      ],
      "metadata": {
        "colab": {
          "base_uri": "https://localhost:8080/",
          "height": 206
        },
        "id": "fpg1QZmyUZ6Z",
        "outputId": "70eb535f-3369-4e78-8afc-09c033dde448"
      },
      "execution_count": 29,
      "outputs": [
        {
          "output_type": "execute_result",
          "data": {
            "text/plain": [
              "     output                                               text  ground_truth\n",
              "0  dementia    this boy is getting cookies outof this jar ....             1\n",
              "1   control   well for one thing this boy's on the stool ge...             0\n",
              "2   control   oh yes .  well the mother is washing the dish...             0\n",
              "3  dementia   action ? what's going on in the picture ? the...             1\n",
              "4   control   the little boy is getting a cookie out of the...             0"
            ],
            "text/html": [
              "\n",
              "  <div id=\"df-fbbf4121-fdcd-4147-87af-c1ff8447fa43\" class=\"colab-df-container\">\n",
              "    <div>\n",
              "<style scoped>\n",
              "    .dataframe tbody tr th:only-of-type {\n",
              "        vertical-align: middle;\n",
              "    }\n",
              "\n",
              "    .dataframe tbody tr th {\n",
              "        vertical-align: top;\n",
              "    }\n",
              "\n",
              "    .dataframe thead th {\n",
              "        text-align: right;\n",
              "    }\n",
              "</style>\n",
              "<table border=\"1\" class=\"dataframe\">\n",
              "  <thead>\n",
              "    <tr style=\"text-align: right;\">\n",
              "      <th></th>\n",
              "      <th>output</th>\n",
              "      <th>text</th>\n",
              "      <th>ground_truth</th>\n",
              "    </tr>\n",
              "  </thead>\n",
              "  <tbody>\n",
              "    <tr>\n",
              "      <th>0</th>\n",
              "      <td>dementia</td>\n",
              "      <td>this boy is getting cookies outof this jar ....</td>\n",
              "      <td>1</td>\n",
              "    </tr>\n",
              "    <tr>\n",
              "      <th>1</th>\n",
              "      <td>control</td>\n",
              "      <td>well for one thing this boy's on the stool ge...</td>\n",
              "      <td>0</td>\n",
              "    </tr>\n",
              "    <tr>\n",
              "      <th>2</th>\n",
              "      <td>control</td>\n",
              "      <td>oh yes .  well the mother is washing the dish...</td>\n",
              "      <td>0</td>\n",
              "    </tr>\n",
              "    <tr>\n",
              "      <th>3</th>\n",
              "      <td>dementia</td>\n",
              "      <td>action ? what's going on in the picture ? the...</td>\n",
              "      <td>1</td>\n",
              "    </tr>\n",
              "    <tr>\n",
              "      <th>4</th>\n",
              "      <td>control</td>\n",
              "      <td>the little boy is getting a cookie out of the...</td>\n",
              "      <td>0</td>\n",
              "    </tr>\n",
              "  </tbody>\n",
              "</table>\n",
              "</div>\n",
              "    <div class=\"colab-df-buttons\">\n",
              "\n",
              "  <div class=\"colab-df-container\">\n",
              "    <button class=\"colab-df-convert\" onclick=\"convertToInteractive('df-fbbf4121-fdcd-4147-87af-c1ff8447fa43')\"\n",
              "            title=\"Convert this dataframe to an interactive table.\"\n",
              "            style=\"display:none;\">\n",
              "\n",
              "  <svg xmlns=\"http://www.w3.org/2000/svg\" height=\"24px\" viewBox=\"0 -960 960 960\">\n",
              "    <path d=\"M120-120v-720h720v720H120Zm60-500h600v-160H180v160Zm220 220h160v-160H400v160Zm0 220h160v-160H400v160ZM180-400h160v-160H180v160Zm440 0h160v-160H620v160ZM180-180h160v-160H180v160Zm440 0h160v-160H620v160Z\"/>\n",
              "  </svg>\n",
              "    </button>\n",
              "\n",
              "  <style>\n",
              "    .colab-df-container {\n",
              "      display:flex;\n",
              "      gap: 12px;\n",
              "    }\n",
              "\n",
              "    .colab-df-convert {\n",
              "      background-color: #E8F0FE;\n",
              "      border: none;\n",
              "      border-radius: 50%;\n",
              "      cursor: pointer;\n",
              "      display: none;\n",
              "      fill: #1967D2;\n",
              "      height: 32px;\n",
              "      padding: 0 0 0 0;\n",
              "      width: 32px;\n",
              "    }\n",
              "\n",
              "    .colab-df-convert:hover {\n",
              "      background-color: #E2EBFA;\n",
              "      box-shadow: 0px 1px 2px rgba(60, 64, 67, 0.3), 0px 1px 3px 1px rgba(60, 64, 67, 0.15);\n",
              "      fill: #174EA6;\n",
              "    }\n",
              "\n",
              "    .colab-df-buttons div {\n",
              "      margin-bottom: 4px;\n",
              "    }\n",
              "\n",
              "    [theme=dark] .colab-df-convert {\n",
              "      background-color: #3B4455;\n",
              "      fill: #D2E3FC;\n",
              "    }\n",
              "\n",
              "    [theme=dark] .colab-df-convert:hover {\n",
              "      background-color: #434B5C;\n",
              "      box-shadow: 0px 1px 3px 1px rgba(0, 0, 0, 0.15);\n",
              "      filter: drop-shadow(0px 1px 2px rgba(0, 0, 0, 0.3));\n",
              "      fill: #FFFFFF;\n",
              "    }\n",
              "  </style>\n",
              "\n",
              "    <script>\n",
              "      const buttonEl =\n",
              "        document.querySelector('#df-fbbf4121-fdcd-4147-87af-c1ff8447fa43 button.colab-df-convert');\n",
              "      buttonEl.style.display =\n",
              "        google.colab.kernel.accessAllowed ? 'block' : 'none';\n",
              "\n",
              "      async function convertToInteractive(key) {\n",
              "        const element = document.querySelector('#df-fbbf4121-fdcd-4147-87af-c1ff8447fa43');\n",
              "        const dataTable =\n",
              "          await google.colab.kernel.invokeFunction('convertToInteractive',\n",
              "                                                    [key], {});\n",
              "        if (!dataTable) return;\n",
              "\n",
              "        const docLinkHtml = 'Like what you see? Visit the ' +\n",
              "          '<a target=\"_blank\" href=https://colab.research.google.com/notebooks/data_table.ipynb>data table notebook</a>'\n",
              "          + ' to learn more about interactive tables.';\n",
              "        element.innerHTML = '';\n",
              "        dataTable['output_type'] = 'display_data';\n",
              "        await google.colab.output.renderOutput(dataTable, element);\n",
              "        const docLink = document.createElement('div');\n",
              "        docLink.innerHTML = docLinkHtml;\n",
              "        element.appendChild(docLink);\n",
              "      }\n",
              "    </script>\n",
              "  </div>\n",
              "\n",
              "\n",
              "<div id=\"df-718a332f-2ff6-4df7-8fe2-958208da4bd4\">\n",
              "  <button class=\"colab-df-quickchart\" onclick=\"quickchart('df-718a332f-2ff6-4df7-8fe2-958208da4bd4')\"\n",
              "            title=\"Suggest charts\"\n",
              "            style=\"display:none;\">\n",
              "\n",
              "<svg xmlns=\"http://www.w3.org/2000/svg\" height=\"24px\"viewBox=\"0 0 24 24\"\n",
              "     width=\"24px\">\n",
              "    <g>\n",
              "        <path d=\"M19 3H5c-1.1 0-2 .9-2 2v14c0 1.1.9 2 2 2h14c1.1 0 2-.9 2-2V5c0-1.1-.9-2-2-2zM9 17H7v-7h2v7zm4 0h-2V7h2v10zm4 0h-2v-4h2v4z\"/>\n",
              "    </g>\n",
              "</svg>\n",
              "  </button>\n",
              "\n",
              "<style>\n",
              "  .colab-df-quickchart {\n",
              "      --bg-color: #E8F0FE;\n",
              "      --fill-color: #1967D2;\n",
              "      --hover-bg-color: #E2EBFA;\n",
              "      --hover-fill-color: #174EA6;\n",
              "      --disabled-fill-color: #AAA;\n",
              "      --disabled-bg-color: #DDD;\n",
              "  }\n",
              "\n",
              "  [theme=dark] .colab-df-quickchart {\n",
              "      --bg-color: #3B4455;\n",
              "      --fill-color: #D2E3FC;\n",
              "      --hover-bg-color: #434B5C;\n",
              "      --hover-fill-color: #FFFFFF;\n",
              "      --disabled-bg-color: #3B4455;\n",
              "      --disabled-fill-color: #666;\n",
              "  }\n",
              "\n",
              "  .colab-df-quickchart {\n",
              "    background-color: var(--bg-color);\n",
              "    border: none;\n",
              "    border-radius: 50%;\n",
              "    cursor: pointer;\n",
              "    display: none;\n",
              "    fill: var(--fill-color);\n",
              "    height: 32px;\n",
              "    padding: 0;\n",
              "    width: 32px;\n",
              "  }\n",
              "\n",
              "  .colab-df-quickchart:hover {\n",
              "    background-color: var(--hover-bg-color);\n",
              "    box-shadow: 0 1px 2px rgba(60, 64, 67, 0.3), 0 1px 3px 1px rgba(60, 64, 67, 0.15);\n",
              "    fill: var(--button-hover-fill-color);\n",
              "  }\n",
              "\n",
              "  .colab-df-quickchart-complete:disabled,\n",
              "  .colab-df-quickchart-complete:disabled:hover {\n",
              "    background-color: var(--disabled-bg-color);\n",
              "    fill: var(--disabled-fill-color);\n",
              "    box-shadow: none;\n",
              "  }\n",
              "\n",
              "  .colab-df-spinner {\n",
              "    border: 2px solid var(--fill-color);\n",
              "    border-color: transparent;\n",
              "    border-bottom-color: var(--fill-color);\n",
              "    animation:\n",
              "      spin 1s steps(1) infinite;\n",
              "  }\n",
              "\n",
              "  @keyframes spin {\n",
              "    0% {\n",
              "      border-color: transparent;\n",
              "      border-bottom-color: var(--fill-color);\n",
              "      border-left-color: var(--fill-color);\n",
              "    }\n",
              "    20% {\n",
              "      border-color: transparent;\n",
              "      border-left-color: var(--fill-color);\n",
              "      border-top-color: var(--fill-color);\n",
              "    }\n",
              "    30% {\n",
              "      border-color: transparent;\n",
              "      border-left-color: var(--fill-color);\n",
              "      border-top-color: var(--fill-color);\n",
              "      border-right-color: var(--fill-color);\n",
              "    }\n",
              "    40% {\n",
              "      border-color: transparent;\n",
              "      border-right-color: var(--fill-color);\n",
              "      border-top-color: var(--fill-color);\n",
              "    }\n",
              "    60% {\n",
              "      border-color: transparent;\n",
              "      border-right-color: var(--fill-color);\n",
              "    }\n",
              "    80% {\n",
              "      border-color: transparent;\n",
              "      border-right-color: var(--fill-color);\n",
              "      border-bottom-color: var(--fill-color);\n",
              "    }\n",
              "    90% {\n",
              "      border-color: transparent;\n",
              "      border-bottom-color: var(--fill-color);\n",
              "    }\n",
              "  }\n",
              "</style>\n",
              "\n",
              "  <script>\n",
              "    async function quickchart(key) {\n",
              "      const quickchartButtonEl =\n",
              "        document.querySelector('#' + key + ' button');\n",
              "      quickchartButtonEl.disabled = true;  // To prevent multiple clicks.\n",
              "      quickchartButtonEl.classList.add('colab-df-spinner');\n",
              "      try {\n",
              "        const charts = await google.colab.kernel.invokeFunction(\n",
              "            'suggestCharts', [key], {});\n",
              "      } catch (error) {\n",
              "        console.error('Error during call to suggestCharts:', error);\n",
              "      }\n",
              "      quickchartButtonEl.classList.remove('colab-df-spinner');\n",
              "      quickchartButtonEl.classList.add('colab-df-quickchart-complete');\n",
              "    }\n",
              "    (() => {\n",
              "      let quickchartButtonEl =\n",
              "        document.querySelector('#df-718a332f-2ff6-4df7-8fe2-958208da4bd4 button');\n",
              "      quickchartButtonEl.style.display =\n",
              "        google.colab.kernel.accessAllowed ? 'block' : 'none';\n",
              "    })();\n",
              "  </script>\n",
              "</div>\n",
              "\n",
              "    </div>\n",
              "  </div>\n"
            ],
            "application/vnd.google.colaboratory.intrinsic+json": {
              "type": "dataframe",
              "variable_name": "df",
              "summary": "{\n  \"name\": \"df\",\n  \"rows\": 398,\n  \"fields\": [\n    {\n      \"column\": \"output\",\n      \"properties\": {\n        \"dtype\": \"category\",\n        \"num_unique_values\": 2,\n        \"samples\": [\n          \"control\",\n          \"dementia\"\n        ],\n        \"semantic_type\": \"\",\n        \"description\": \"\"\n      }\n    },\n    {\n      \"column\": \"text\",\n      \"properties\": {\n        \"dtype\": \"string\",\n        \"num_unique_values\": 398,\n        \"samples\": [\n          \" there's the two children are in the process of stealing cookies from the cookie jar . and the little girl has her finger up to her mouth to be quiet . and the stool on which the boy is standing is about to fall . and the mother must be looking out the window because the sink is spilling over with water, overflowing with water . and the meanwhile she's drying the dishes . and the water is falling down onto the floor . and it's a nice day . the window's up it looks like . and it's a nice day outside . that's about all I can see on that . \",\n          \" everything that you see ? that I see them  the mother is drying dishes . the water is running outof the sink . the boy is going to fall off the stool . he's getting cookies . and the girl is waiting for a cookie from his brother . is there more ?  I don't I don't see any other action there . \"\n        ],\n        \"semantic_type\": \"\",\n        \"description\": \"\"\n      }\n    },\n    {\n      \"column\": \"ground_truth\",\n      \"properties\": {\n        \"dtype\": \"number\",\n        \"std\": 0,\n        \"min\": 0,\n        \"max\": 1,\n        \"num_unique_values\": 2,\n        \"samples\": [\n          0,\n          1\n        ],\n        \"semantic_type\": \"\",\n        \"description\": \"\"\n      }\n    }\n  ]\n}"
            }
          },
          "metadata": {},
          "execution_count": 29
        }
      ]
    },
    {
      "cell_type": "markdown",
      "source": [
        "Preprocess data"
      ],
      "metadata": {
        "id": "3439ZRvVXoUn"
      }
    },
    {
      "cell_type": "code",
      "source": [
        "# texts and labels are both lists\n",
        "texts = df['text']\n",
        "labels = df['ground_truth']\n",
        "\n",
        "# splitting data into train, val, and test (80, 15, 5% respectively)\n",
        "# First split: separate out the test set\n",
        "train_val_texts, test_texts, train_val_labels, test_labels = train_test_split(\n",
        "    texts, labels, test_size=0.05, random_state=42)\n",
        "\n",
        "# Second split: divide the remaining data into training and validation sets\n",
        "train_texts, val_texts, train_labels, val_labels = train_test_split(\n",
        "    train_val_texts, train_val_labels, test_size=0.1875, random_state=42)  # 0.1875 x 0.8 = 0.15\n",
        "\n",
        "train_dataset = DementiaBankDataset(train_texts, train_labels, tokenizer, max_length=128)\n",
        "val_dataset = DementiaBankDataset(val_texts, val_labels, tokenizer, max_length=128)\n",
        "\n",
        "train_loader = DataLoader(train_dataset, batch_size=16, shuffle=True)\n",
        "val_loader = DataLoader(val_dataset, batch_size=16)"
      ],
      "metadata": {
        "id": "eICXnMd8UDMZ"
      },
      "execution_count": 30,
      "outputs": []
    },
    {
      "cell_type": "markdown",
      "source": [
        "Training setup:\n",
        "  Optimizer and Linear Scheduler"
      ],
      "metadata": {
        "id": "xWPvkHyMXmre"
      }
    },
    {
      "cell_type": "code",
      "source": [
        "from transformers import get_linear_schedule_with_warmup\n",
        "\n",
        "# set up optimizer\n",
        "optimizer = AdamW(model.parameters(), lr=2e-5)\n",
        "\n",
        "# Adjust me!\n",
        "# 5 -> .78, 10 -> .87+,\n",
        "num_epochs = 8\n",
        "\n",
        "# set up linear scheduler\n",
        "total_steps = len(train_loader) * num_epochs\n",
        "scheduler = get_linear_schedule_with_warmup(optimizer,\n",
        "                                            num_warmup_steps=0,\n",
        "                                            num_training_steps=total_steps)"
      ],
      "metadata": {
        "colab": {
          "base_uri": "https://localhost:8080/"
        },
        "id": "OQD_IMyeXloX",
        "outputId": "21d9f84a-8110-4574-eca3-4da900a657ea"
      },
      "execution_count": 31,
      "outputs": [
        {
          "output_type": "stream",
          "name": "stderr",
          "text": [
            "/usr/local/lib/python3.10/dist-packages/transformers/optimization.py:588: FutureWarning: This implementation of AdamW is deprecated and will be removed in a future version. Use the PyTorch implementation torch.optim.AdamW instead, or set `no_deprecation_warning=True` to disable this warning\n",
            "  warnings.warn(\n"
          ]
        }
      ]
    },
    {
      "cell_type": "markdown",
      "source": [
        "Setup early stopping"
      ],
      "metadata": {
        "id": "NCx_-5hEaYzM"
      }
    },
    {
      "cell_type": "code",
      "source": [
        "class EarlyStopping:\n",
        "    def __init__(self, patience=3, min_delta=0.001):\n",
        "        self.patience = patience\n",
        "        self.min_delta = min_delta\n",
        "        self.counter = 0\n",
        "        self.best_loss = None\n",
        "        self.early_stop = False\n",
        "\n",
        "    def __call__(self, val_loss):\n",
        "        if self.best_loss is None:\n",
        "            self.best_loss = val_loss\n",
        "        elif val_loss > self.best_loss - self.min_delta:\n",
        "            self.counter += 1\n",
        "            print(f'EarlyStopping counter: {self.counter} out of {self.patience}')\n",
        "\n",
        "            if self.counter >= self.patience:\n",
        "                self.early_stop = True\n",
        "        else:\n",
        "            self.best_loss = val_loss\n",
        "            self.counter = 0\n",
        "\n",
        "early_stopping = EarlyStopping(patience=3)"
      ],
      "metadata": {
        "id": "bbW0Y6XGaU-N"
      },
      "execution_count": 32,
      "outputs": []
    },
    {
      "cell_type": "markdown",
      "source": [
        "Training loop"
      ],
      "metadata": {
        "id": "MF7PymE6YN1s"
      }
    },
    {
      "cell_type": "code",
      "source": [
        "from tqdm import tqdm\n",
        "import numpy as np\n",
        "\n",
        "\n",
        "def train():\n",
        "  best_val_loss = float('inf')\n",
        "  for epoch in range(num_epochs):\n",
        "      model.train()\n",
        "      total_loss = 0\n",
        "\n",
        "      for batch in tqdm(train_loader, desc=f\"Epoch {epoch + 1}/{num_epochs}\"):\n",
        "          input_ids = batch['input_ids'].to(device)\n",
        "          attention_mask = batch['attention_mask'].to(device)\n",
        "          labels = batch['labels'].to(device)\n",
        "\n",
        "          optimizer.zero_grad()\n",
        "          outputs = model(input_ids=input_ids, attention_mask=attention_mask, labels=labels)\n",
        "          loss = outputs.loss\n",
        "          total_loss += loss.item()\n",
        "\n",
        "          loss.backward()\n",
        "          optimizer.step()\n",
        "\n",
        "      avg_train_loss = total_loss / len(train_loader)\n",
        "      print(f\"Average training loss: {avg_train_loss:.4f}\")\n",
        "\n",
        "      # Validation from here on!\n",
        "      model.eval()\n",
        "      val_loss = 0\n",
        "      val_preds = []\n",
        "      val_true = []\n",
        "\n",
        "      with torch.no_grad():\n",
        "          for batch in val_loader:\n",
        "              input_ids = batch['input_ids'].to(device)\n",
        "              attention_mask = batch['attention_mask'].to(device)\n",
        "              labels = batch['labels'].to(device)\n",
        "\n",
        "              outputs = model(input_ids=input_ids, attention_mask=attention_mask, labels=labels)\n",
        "              loss = outputs.loss\n",
        "              val_loss += loss.item()\n",
        "\n",
        "              logits = outputs.logits\n",
        "              preds = torch.argmax(logits, dim=1).cpu().numpy()\n",
        "              val_preds.extend(preds)\n",
        "              val_true.extend(labels.cpu().numpy())\n",
        "\n",
        "      avg_val_loss = val_loss / len(val_loader)\n",
        "      val_accuracy = np.mean(np.array(val_preds) == np.array(val_true))\n",
        "      print(f\"Validation loss: {avg_val_loss:.4f}\")\n",
        "      print(f\"Validation accuracy: {val_accuracy:.4f}\")\n",
        "\n",
        "      # Save the best model\n",
        "      if avg_val_loss < best_val_loss:\n",
        "          best_val_loss = avg_val_loss\n",
        "          best_val_accuracy = val_accuracy\n",
        "          torch.save(model.state_dict(), 'best_xlnet_model.pth')\n",
        "          print(\"Saved best model!\")\n",
        "\n",
        "      # Early stopping check (if wanted)\n",
        "      early_stopping(avg_val_loss)\n",
        "      if early_stopping.early_stop:\n",
        "          print(\"Early stopping!!!\")\n",
        "          print(f\"Best validation loss: {best_val_loss:.4f}\")\n",
        "          print(f\"Best Validation accuracy: {best_val_accuracy:.4f}\")\n",
        "          break"
      ],
      "metadata": {
        "id": "yIZj374UYNSQ"
      },
      "execution_count": 33,
      "outputs": []
    },
    {
      "cell_type": "code",
      "source": [
        "train()"
      ],
      "metadata": {
        "colab": {
          "base_uri": "https://localhost:8080/"
        },
        "id": "y7z-Clte5sVm",
        "outputId": "9ec44df8-ee66-4bda-da7c-275e3ed073e9"
      },
      "execution_count": 34,
      "outputs": [
        {
          "output_type": "stream",
          "name": "stderr",
          "text": [
            "\n",
            "Epoch 1/8:   0%|          | 0/20 [00:00<?, ?it/s]\u001b[A\n",
            "Epoch 1/8:   5%|▌         | 1/20 [00:00<00:03,  4.99it/s]\u001b[A\n",
            "Epoch 1/8:  10%|█         | 2/20 [00:00<00:03,  5.05it/s]\u001b[A\n",
            "Epoch 1/8:  15%|█▌        | 3/20 [00:00<00:03,  5.05it/s]\u001b[A\n",
            "Epoch 1/8:  20%|██        | 4/20 [00:00<00:03,  4.99it/s]\u001b[A\n",
            "Epoch 1/8:  25%|██▌       | 5/20 [00:01<00:03,  4.97it/s]\u001b[A\n",
            "Epoch 1/8:  30%|███       | 6/20 [00:01<00:02,  4.95it/s]\u001b[A\n",
            "Epoch 1/8:  35%|███▌      | 7/20 [00:01<00:02,  4.95it/s]\u001b[A\n",
            "Epoch 1/8:  40%|████      | 8/20 [00:01<00:02,  4.97it/s]\u001b[A\n",
            "Epoch 1/8:  45%|████▌     | 9/20 [00:01<00:02,  4.98it/s]\u001b[A\n",
            "Epoch 1/8:  50%|█████     | 10/20 [00:02<00:02,  4.99it/s]\u001b[A\n",
            "Epoch 1/8:  55%|█████▌    | 11/20 [00:02<00:01,  4.99it/s]\u001b[A\n",
            "Epoch 1/8:  60%|██████    | 12/20 [00:02<00:01,  4.98it/s]\u001b[A\n",
            "Epoch 1/8:  65%|██████▌   | 13/20 [00:02<00:01,  4.98it/s]\u001b[A\n",
            "Epoch 1/8:  70%|███████   | 14/20 [00:02<00:01,  4.99it/s]\u001b[A\n",
            "Epoch 1/8:  75%|███████▌  | 15/20 [00:03<00:01,  4.99it/s]\u001b[A\n",
            "Epoch 1/8:  80%|████████  | 16/20 [00:03<00:00,  5.00it/s]\u001b[A\n",
            "Epoch 1/8:  85%|████████▌ | 17/20 [00:03<00:00,  5.00it/s]\u001b[A\n",
            "Epoch 1/8:  90%|█████████ | 18/20 [00:03<00:00,  5.02it/s]\u001b[A\n",
            "Epoch 1/8: 100%|██████████| 20/20 [00:03<00:00,  5.15it/s]\n"
          ]
        },
        {
          "output_type": "stream",
          "name": "stdout",
          "text": [
            "Average training loss: 0.6921\n",
            "Validation loss: 0.6062\n",
            "Validation accuracy: 0.7183\n",
            "Saved best model!\n"
          ]
        },
        {
          "output_type": "stream",
          "name": "stderr",
          "text": [
            "\n",
            "Epoch 2/8:   0%|          | 0/20 [00:00<?, ?it/s]\u001b[A\n",
            "Epoch 2/8:   5%|▌         | 1/20 [00:00<00:03,  5.21it/s]\u001b[A\n",
            "Epoch 2/8:  10%|█         | 2/20 [00:00<00:03,  5.10it/s]\u001b[A\n",
            "Epoch 2/8:  15%|█▌        | 3/20 [00:00<00:03,  5.08it/s]\u001b[A\n",
            "Epoch 2/8:  20%|██        | 4/20 [00:00<00:03,  5.03it/s]\u001b[A\n",
            "Epoch 2/8:  25%|██▌       | 5/20 [00:00<00:03,  4.97it/s]\u001b[A\n",
            "Epoch 2/8:  30%|███       | 6/20 [00:01<00:02,  4.96it/s]\u001b[A\n",
            "Epoch 2/8:  35%|███▌      | 7/20 [00:01<00:02,  4.99it/s]\u001b[A\n",
            "Epoch 2/8:  40%|████      | 8/20 [00:01<00:02,  4.99it/s]\u001b[A\n",
            "Epoch 2/8:  45%|████▌     | 9/20 [00:01<00:02,  5.02it/s]\u001b[A\n",
            "Epoch 2/8:  50%|█████     | 10/20 [00:01<00:01,  5.02it/s]\u001b[A\n",
            "Epoch 2/8:  55%|█████▌    | 11/20 [00:02<00:01,  5.01it/s]\u001b[A\n",
            "Epoch 2/8:  60%|██████    | 12/20 [00:02<00:01,  4.97it/s]\u001b[A\n",
            "Epoch 2/8:  65%|██████▌   | 13/20 [00:02<00:01,  4.95it/s]\u001b[A\n",
            "Epoch 2/8:  70%|███████   | 14/20 [00:02<00:01,  4.95it/s]\u001b[A\n",
            "Epoch 2/8:  75%|███████▌  | 15/20 [00:03<00:01,  4.95it/s]\u001b[A\n",
            "Epoch 2/8:  80%|████████  | 16/20 [00:03<00:00,  4.97it/s]\u001b[A\n",
            "Epoch 2/8:  85%|████████▌ | 17/20 [00:03<00:00,  4.93it/s]\u001b[A\n",
            "Epoch 2/8:  90%|█████████ | 18/20 [00:03<00:00,  4.93it/s]\u001b[A\n",
            "Epoch 2/8: 100%|██████████| 20/20 [00:03<00:00,  5.13it/s]\n"
          ]
        },
        {
          "output_type": "stream",
          "name": "stdout",
          "text": [
            "Average training loss: 0.5343\n",
            "Validation loss: 0.4137\n",
            "Validation accuracy: 0.7746\n",
            "Saved best model!\n"
          ]
        },
        {
          "output_type": "stream",
          "name": "stderr",
          "text": [
            "\n",
            "Epoch 3/8:   0%|          | 0/20 [00:00<?, ?it/s]\u001b[A\n",
            "Epoch 3/8:   5%|▌         | 1/20 [00:00<00:03,  5.16it/s]\u001b[A\n",
            "Epoch 3/8:  10%|█         | 2/20 [00:00<00:03,  5.11it/s]\u001b[A\n",
            "Epoch 3/8:  15%|█▌        | 3/20 [00:00<00:03,  5.06it/s]\u001b[A\n",
            "Epoch 3/8:  20%|██        | 4/20 [00:00<00:03,  5.03it/s]\u001b[A\n",
            "Epoch 3/8:  25%|██▌       | 5/20 [00:00<00:03,  4.98it/s]\u001b[A\n",
            "Epoch 3/8:  30%|███       | 6/20 [00:01<00:02,  4.96it/s]\u001b[A\n",
            "Epoch 3/8:  35%|███▌      | 7/20 [00:01<00:02,  4.92it/s]\u001b[A\n",
            "Epoch 3/8:  40%|████      | 8/20 [00:01<00:02,  4.92it/s]\u001b[A\n",
            "Epoch 3/8:  45%|████▌     | 9/20 [00:01<00:02,  4.93it/s]\u001b[A\n",
            "Epoch 3/8:  50%|█████     | 10/20 [00:02<00:02,  4.89it/s]\u001b[A\n",
            "Epoch 3/8:  55%|█████▌    | 11/20 [00:02<00:01,  4.85it/s]\u001b[A\n",
            "Epoch 3/8:  60%|██████    | 12/20 [00:02<00:01,  4.87it/s]\u001b[A\n",
            "Epoch 3/8:  65%|██████▌   | 13/20 [00:02<00:01,  4.89it/s]\u001b[A\n",
            "Epoch 3/8:  70%|███████   | 14/20 [00:02<00:01,  4.89it/s]\u001b[A\n",
            "Epoch 3/8:  75%|███████▌  | 15/20 [00:03<00:01,  4.92it/s]\u001b[A\n",
            "Epoch 3/8:  80%|████████  | 16/20 [00:03<00:00,  4.92it/s]\u001b[A\n",
            "Epoch 3/8:  85%|████████▌ | 17/20 [00:03<00:00,  4.92it/s]\u001b[A\n",
            "Epoch 3/8:  90%|█████████ | 18/20 [00:03<00:00,  4.91it/s]\u001b[A\n",
            "Epoch 3/8: 100%|██████████| 20/20 [00:03<00:00,  5.09it/s]\n"
          ]
        },
        {
          "output_type": "stream",
          "name": "stdout",
          "text": [
            "Average training loss: 0.4248\n",
            "Validation loss: 0.7476\n",
            "Validation accuracy: 0.6620\n",
            "EarlyStopping counter: 1 out of 3\n"
          ]
        },
        {
          "output_type": "stream",
          "name": "stderr",
          "text": [
            "\n",
            "Epoch 4/8:   0%|          | 0/20 [00:00<?, ?it/s]\u001b[A\n",
            "Epoch 4/8:   5%|▌         | 1/20 [00:00<00:03,  5.11it/s]\u001b[A\n",
            "Epoch 4/8:  10%|█         | 2/20 [00:00<00:03,  5.04it/s]\u001b[A\n",
            "Epoch 4/8:  15%|█▌        | 3/20 [00:00<00:03,  4.99it/s]\u001b[A\n",
            "Epoch 4/8:  20%|██        | 4/20 [00:00<00:03,  4.94it/s]\u001b[A\n",
            "Epoch 4/8:  25%|██▌       | 5/20 [00:01<00:03,  4.92it/s]\u001b[A\n",
            "Epoch 4/8:  30%|███       | 6/20 [00:01<00:02,  4.92it/s]\u001b[A\n",
            "Epoch 4/8:  35%|███▌      | 7/20 [00:01<00:02,  4.93it/s]\u001b[A\n",
            "Epoch 4/8:  40%|████      | 8/20 [00:01<00:02,  4.93it/s]\u001b[A\n",
            "Epoch 4/8:  45%|████▌     | 9/20 [00:01<00:02,  4.98it/s]\u001b[A\n",
            "Epoch 4/8:  50%|█████     | 10/20 [00:02<00:02,  4.97it/s]\u001b[A\n",
            "Epoch 4/8:  55%|█████▌    | 11/20 [00:02<00:01,  4.99it/s]\u001b[A\n",
            "Epoch 4/8:  60%|██████    | 12/20 [00:02<00:01,  4.96it/s]\u001b[A\n",
            "Epoch 4/8:  65%|██████▌   | 13/20 [00:02<00:01,  4.93it/s]\u001b[A\n",
            "Epoch 4/8:  70%|███████   | 14/20 [00:02<00:01,  4.94it/s]\u001b[A\n",
            "Epoch 4/8:  75%|███████▌  | 15/20 [00:03<00:01,  4.91it/s]\u001b[A\n",
            "Epoch 4/8:  80%|████████  | 16/20 [00:03<00:00,  4.92it/s]\u001b[A\n",
            "Epoch 4/8:  85%|████████▌ | 17/20 [00:03<00:00,  4.92it/s]\u001b[A\n",
            "Epoch 4/8:  90%|█████████ | 18/20 [00:03<00:00,  4.92it/s]\u001b[A\n",
            "Epoch 4/8: 100%|██████████| 20/20 [00:03<00:00,  5.11it/s]\n"
          ]
        },
        {
          "output_type": "stream",
          "name": "stdout",
          "text": [
            "Average training loss: 0.3757\n",
            "Validation loss: 0.3331\n",
            "Validation accuracy: 0.8310\n",
            "Saved best model!\n"
          ]
        },
        {
          "output_type": "stream",
          "name": "stderr",
          "text": [
            "\n",
            "Epoch 5/8:   0%|          | 0/20 [00:00<?, ?it/s]\u001b[A\n",
            "Epoch 5/8:   5%|▌         | 1/20 [00:00<00:04,  4.44it/s]\u001b[A\n",
            "Epoch 5/8:  10%|█         | 2/20 [00:00<00:03,  4.79it/s]\u001b[A\n",
            "Epoch 5/8:  15%|█▌        | 3/20 [00:00<00:03,  4.89it/s]\u001b[A\n",
            "Epoch 5/8:  20%|██        | 4/20 [00:00<00:03,  4.92it/s]\u001b[A\n",
            "Epoch 5/8:  25%|██▌       | 5/20 [00:01<00:03,  4.93it/s]\u001b[A\n",
            "Epoch 5/8:  30%|███       | 6/20 [00:01<00:02,  4.94it/s]\u001b[A\n",
            "Epoch 5/8:  35%|███▌      | 7/20 [00:01<00:02,  4.93it/s]\u001b[A\n",
            "Epoch 5/8:  40%|████      | 8/20 [00:01<00:02,  4.93it/s]\u001b[A\n",
            "Epoch 5/8:  45%|████▌     | 9/20 [00:01<00:02,  4.91it/s]\u001b[A\n",
            "Epoch 5/8:  50%|█████     | 10/20 [00:02<00:02,  4.92it/s]\u001b[A\n",
            "Epoch 5/8:  55%|█████▌    | 11/20 [00:02<00:01,  4.94it/s]\u001b[A\n",
            "Epoch 5/8:  60%|██████    | 12/20 [00:02<00:01,  4.93it/s]\u001b[A\n",
            "Epoch 5/8:  65%|██████▌   | 13/20 [00:02<00:01,  4.94it/s]\u001b[A\n",
            "Epoch 5/8:  70%|███████   | 14/20 [00:02<00:01,  4.97it/s]\u001b[A\n",
            "Epoch 5/8:  75%|███████▌  | 15/20 [00:03<00:01,  4.98it/s]\u001b[A\n",
            "Epoch 5/8:  80%|████████  | 16/20 [00:03<00:00,  4.95it/s]\u001b[A\n",
            "Epoch 5/8:  85%|████████▌ | 17/20 [00:03<00:00,  4.92it/s]\u001b[A\n",
            "Epoch 5/8:  90%|█████████ | 18/20 [00:03<00:00,  4.90it/s]\u001b[A\n",
            "Epoch 5/8: 100%|██████████| 20/20 [00:03<00:00,  5.08it/s]\n"
          ]
        },
        {
          "output_type": "stream",
          "name": "stdout",
          "text": [
            "Average training loss: 0.1837\n",
            "Validation loss: 0.7540\n",
            "Validation accuracy: 0.8169\n",
            "EarlyStopping counter: 1 out of 3\n"
          ]
        },
        {
          "output_type": "stream",
          "name": "stderr",
          "text": [
            "\n",
            "Epoch 6/8:   0%|          | 0/20 [00:00<?, ?it/s]\u001b[A\n",
            "Epoch 6/8:   5%|▌         | 1/20 [00:00<00:03,  5.08it/s]\u001b[A\n",
            "Epoch 6/8:  10%|█         | 2/20 [00:00<00:03,  5.00it/s]\u001b[A\n",
            "Epoch 6/8:  15%|█▌        | 3/20 [00:00<00:03,  4.98it/s]\u001b[A\n",
            "Epoch 6/8:  20%|██        | 4/20 [00:00<00:03,  4.97it/s]\u001b[A\n",
            "Epoch 6/8:  25%|██▌       | 5/20 [00:01<00:03,  4.92it/s]\u001b[A\n",
            "Epoch 6/8:  30%|███       | 6/20 [00:01<00:02,  4.92it/s]\u001b[A\n",
            "Epoch 6/8:  35%|███▌      | 7/20 [00:01<00:02,  4.90it/s]\u001b[A\n",
            "Epoch 6/8:  40%|████      | 8/20 [00:01<00:02,  4.91it/s]\u001b[A\n",
            "Epoch 6/8:  45%|████▌     | 9/20 [00:01<00:02,  4.92it/s]\u001b[A\n",
            "Epoch 6/8:  50%|█████     | 10/20 [00:02<00:02,  4.92it/s]\u001b[A\n",
            "Epoch 6/8:  55%|█████▌    | 11/20 [00:02<00:01,  4.89it/s]\u001b[A\n",
            "Epoch 6/8:  60%|██████    | 12/20 [00:02<00:01,  4.89it/s]\u001b[A\n",
            "Epoch 6/8:  65%|██████▌   | 13/20 [00:02<00:01,  4.91it/s]\u001b[A\n",
            "Epoch 6/8:  70%|███████   | 14/20 [00:02<00:01,  4.91it/s]\u001b[A\n",
            "Epoch 6/8:  75%|███████▌  | 15/20 [00:03<00:01,  4.89it/s]\u001b[A\n",
            "Epoch 6/8:  80%|████████  | 16/20 [00:03<00:00,  4.90it/s]\u001b[A\n",
            "Epoch 6/8:  85%|████████▌ | 17/20 [00:03<00:00,  4.89it/s]\u001b[A\n",
            "Epoch 6/8:  90%|█████████ | 18/20 [00:03<00:00,  4.90it/s]\u001b[A\n",
            "Epoch 6/8: 100%|██████████| 20/20 [00:03<00:00,  5.08it/s]\n"
          ]
        },
        {
          "output_type": "stream",
          "name": "stdout",
          "text": [
            "Average training loss: 0.1347\n",
            "Validation loss: 0.9006\n",
            "Validation accuracy: 0.8028\n",
            "EarlyStopping counter: 2 out of 3\n"
          ]
        },
        {
          "output_type": "stream",
          "name": "stderr",
          "text": [
            "\n",
            "Epoch 7/8:   0%|          | 0/20 [00:00<?, ?it/s]\u001b[A\n",
            "Epoch 7/8:   5%|▌         | 1/20 [00:00<00:03,  5.07it/s]\u001b[A\n",
            "Epoch 7/8:  10%|█         | 2/20 [00:00<00:03,  4.98it/s]\u001b[A\n",
            "Epoch 7/8:  15%|█▌        | 3/20 [00:00<00:03,  5.01it/s]\u001b[A\n",
            "Epoch 7/8:  20%|██        | 4/20 [00:00<00:03,  4.99it/s]\u001b[A\n",
            "Epoch 7/8:  25%|██▌       | 5/20 [00:01<00:03,  4.96it/s]\u001b[A\n",
            "Epoch 7/8:  30%|███       | 6/20 [00:01<00:02,  4.92it/s]\u001b[A\n",
            "Epoch 7/8:  35%|███▌      | 7/20 [00:01<00:02,  4.93it/s]\u001b[A\n",
            "Epoch 7/8:  40%|████      | 8/20 [00:01<00:02,  4.94it/s]\u001b[A\n",
            "Epoch 7/8:  45%|████▌     | 9/20 [00:01<00:02,  4.92it/s]\u001b[A\n",
            "Epoch 7/8:  50%|█████     | 10/20 [00:02<00:02,  4.93it/s]\u001b[A\n",
            "Epoch 7/8:  55%|█████▌    | 11/20 [00:02<00:01,  4.92it/s]\u001b[A\n",
            "Epoch 7/8:  60%|██████    | 12/20 [00:02<00:01,  4.91it/s]\u001b[A\n",
            "Epoch 7/8:  65%|██████▌   | 13/20 [00:02<00:01,  4.92it/s]\u001b[A\n",
            "Epoch 7/8:  70%|███████   | 14/20 [00:02<00:01,  4.95it/s]\u001b[A\n",
            "Epoch 7/8:  75%|███████▌  | 15/20 [00:03<00:01,  4.94it/s]\u001b[A\n",
            "Epoch 7/8:  80%|████████  | 16/20 [00:03<00:00,  4.91it/s]\u001b[A\n",
            "Epoch 7/8:  85%|████████▌ | 17/20 [00:03<00:00,  4.90it/s]\u001b[A\n",
            "Epoch 7/8:  90%|█████████ | 18/20 [00:03<00:00,  4.89it/s]\u001b[A\n",
            "Epoch 7/8: 100%|██████████| 20/20 [00:03<00:00,  5.09it/s]\n"
          ]
        },
        {
          "output_type": "stream",
          "name": "stdout",
          "text": [
            "Average training loss: 0.2461\n",
            "Validation loss: 0.3144\n",
            "Validation accuracy: 0.8592\n",
            "Saved best model!\n"
          ]
        },
        {
          "output_type": "stream",
          "name": "stderr",
          "text": [
            "\n",
            "Epoch 8/8:   0%|          | 0/20 [00:00<?, ?it/s]\u001b[A\n",
            "Epoch 8/8:   5%|▌         | 1/20 [00:00<00:03,  5.09it/s]\u001b[A\n",
            "Epoch 8/8:  10%|█         | 2/20 [00:00<00:03,  5.02it/s]\u001b[A\n",
            "Epoch 8/8:  15%|█▌        | 3/20 [00:00<00:03,  4.98it/s]\u001b[A\n",
            "Epoch 8/8:  20%|██        | 4/20 [00:00<00:03,  4.98it/s]\u001b[A\n",
            "Epoch 8/8:  25%|██▌       | 5/20 [00:01<00:03,  4.91it/s]\u001b[A\n",
            "Epoch 8/8:  30%|███       | 6/20 [00:01<00:02,  4.90it/s]\u001b[A\n",
            "Epoch 8/8:  35%|███▌      | 7/20 [00:01<00:02,  4.90it/s]\u001b[A\n",
            "Epoch 8/8:  40%|████      | 8/20 [00:01<00:02,  4.90it/s]\u001b[A\n",
            "Epoch 8/8:  45%|████▌     | 9/20 [00:01<00:02,  4.90it/s]\u001b[A\n",
            "Epoch 8/8:  50%|█████     | 10/20 [00:02<00:02,  4.89it/s]\u001b[A\n",
            "Epoch 8/8:  55%|█████▌    | 11/20 [00:02<00:01,  4.90it/s]\u001b[A\n",
            "Epoch 8/8:  60%|██████    | 12/20 [00:02<00:01,  4.90it/s]\u001b[A\n",
            "Epoch 8/8:  65%|██████▌   | 13/20 [00:02<00:01,  4.89it/s]\u001b[A\n",
            "Epoch 8/8:  70%|███████   | 14/20 [00:02<00:01,  4.90it/s]\u001b[A\n",
            "Epoch 8/8:  75%|███████▌  | 15/20 [00:03<00:01,  4.89it/s]\u001b[A\n",
            "Epoch 8/8:  80%|████████  | 16/20 [00:03<00:00,  4.89it/s]\u001b[A\n",
            "Epoch 8/8:  85%|████████▌ | 17/20 [00:03<00:00,  4.89it/s]\u001b[A\n",
            "Epoch 8/8:  90%|█████████ | 18/20 [00:03<00:00,  4.89it/s]\u001b[A\n",
            "Epoch 8/8: 100%|██████████| 20/20 [00:03<00:00,  5.07it/s]\n"
          ]
        },
        {
          "output_type": "stream",
          "name": "stdout",
          "text": [
            "Average training loss: 0.0850\n",
            "Validation loss: 0.4075\n",
            "Validation accuracy: 0.8873\n",
            "EarlyStopping counter: 1 out of 3\n"
          ]
        }
      ]
    },
    {
      "cell_type": "markdown",
      "source": [
        "Setup model evaluation"
      ],
      "metadata": {
        "id": "g-YmwRDgb71S"
      }
    },
    {
      "cell_type": "code",
      "source": [
        "from sklearn.metrics import classification_report, confusion_matrix\n",
        "\n",
        "def evaluate_model(model, data_loader, device):\n",
        "    model.eval()\n",
        "    predictions = []\n",
        "    true_labels = []\n",
        "\n",
        "    with torch.no_grad():\n",
        "        for batch in data_loader:\n",
        "            input_ids = batch['input_ids'].to(device)\n",
        "            attention_mask = batch['attention_mask'].to(device)\n",
        "            labels = batch['labels'].to(device)\n",
        "\n",
        "            outputs = model(input_ids=input_ids, attention_mask=attention_mask)\n",
        "            logits = outputs.logits\n",
        "            preds = torch.argmax(logits, dim=1).cpu().numpy()\n",
        "\n",
        "            predictions.extend(preds)\n",
        "            true_labels.extend(labels.cpu().numpy())\n",
        "\n",
        "    print(classification_report(true_labels, predictions))\n",
        "    print(\"Confusion Matrix:\")\n",
        "    print(confusion_matrix(true_labels, predictions))"
      ],
      "metadata": {
        "id": "Vk0W2f8yYZiH"
      },
      "execution_count": 35,
      "outputs": []
    },
    {
      "cell_type": "markdown",
      "source": [
        "Evaluate the model"
      ],
      "metadata": {
        "id": "VSuVgPkMcIws"
      }
    },
    {
      "cell_type": "code",
      "source": [
        "evaluate_model(model, val_loader, device)"
      ],
      "metadata": {
        "colab": {
          "base_uri": "https://localhost:8080/"
        },
        "id": "NnK90hx0cIcT",
        "outputId": "280fdf62-ef87-4dd3-a396-ac4fc4e91ee2"
      },
      "execution_count": 36,
      "outputs": [
        {
          "output_type": "stream",
          "name": "stdout",
          "text": [
            "              precision    recall  f1-score   support\n",
            "\n",
            "           0       0.94      0.85      0.89        40\n",
            "           1       0.83      0.94      0.88        31\n",
            "\n",
            "    accuracy                           0.89        71\n",
            "   macro avg       0.89      0.89      0.89        71\n",
            "weighted avg       0.89      0.89      0.89        71\n",
            "\n",
            "Confusion Matrix:\n",
            "[[34  6]\n",
            " [ 2 29]]\n"
          ]
        }
      ]
    },
    {
      "cell_type": "markdown",
      "source": [
        "Inference Function"
      ],
      "metadata": {
        "id": "AjxavD_UcQlt"
      }
    },
    {
      "cell_type": "code",
      "source": [
        "def predict(text, model, tokenizer, device, max_length=128):\n",
        "    model.eval()\n",
        "    encoding = tokenizer.encode_plus(\n",
        "        text,\n",
        "        add_special_tokens=True,\n",
        "        max_length=max_length,\n",
        "        padding='max_length',\n",
        "        truncation=True,\n",
        "        return_tensors='pt'\n",
        "    )\n",
        "\n",
        "    input_ids = encoding['input_ids'].to(device)\n",
        "    attention_mask = encoding['attention_mask'].to(device)\n",
        "\n",
        "    with torch.no_grad():\n",
        "        outputs = model(input_ids=input_ids, attention_mask=attention_mask)\n",
        "        logits = outputs.logits\n",
        "        pred = torch.argmax(logits, dim=1).item()\n",
        "\n",
        "    if pred == 1:\n",
        "        pred = \"dementia\"\n",
        "    else:\n",
        "        pred = \"control\"\n",
        "\n",
        "    return pred"
      ],
      "metadata": {
        "id": "b4ce4af3RlFx"
      },
      "execution_count": 37,
      "outputs": []
    },
    {
      "cell_type": "markdown",
      "source": [
        "Call inference function on test texts"
      ],
      "metadata": {
        "id": "9KHfa-i5cizA"
      }
    },
    {
      "cell_type": "code",
      "source": [
        "test_gt = []\n",
        "test_preds = []\n",
        "for text, label in zip(test_texts, test_labels):  # Iterate directly over items\n",
        "    pred = predict(text, model, tokenizer, device)\n",
        "    gt = \"dementia\" if label == 1 else \"control\"\n",
        "    print(f\"Prediction: {pred}, Ground truth: {gt}\")\n",
        "    test_gt.append(gt)  # Build ground truth list\n",
        "    test_preds.append(pred)  # Build predictions list"
      ],
      "metadata": {
        "colab": {
          "base_uri": "https://localhost:8080/"
        },
        "id": "5YhweLY-rINt",
        "outputId": "67694060-f040-49a6-c5d6-eb353d5f997c"
      },
      "execution_count": 38,
      "outputs": [
        {
          "output_type": "stream",
          "name": "stdout",
          "text": [
            "Prediction: control, Ground truth: control\n",
            "Prediction: control, Ground truth: control\n",
            "Prediction: control, Ground truth: control\n",
            "Prediction: control, Ground truth: dementia\n",
            "Prediction: dementia, Ground truth: dementia\n",
            "Prediction: control, Ground truth: control\n",
            "Prediction: control, Ground truth: control\n",
            "Prediction: control, Ground truth: control\n",
            "Prediction: dementia, Ground truth: dementia\n",
            "Prediction: dementia, Ground truth: dementia\n",
            "Prediction: dementia, Ground truth: dementia\n",
            "Prediction: dementia, Ground truth: control\n",
            "Prediction: control, Ground truth: control\n",
            "Prediction: dementia, Ground truth: dementia\n",
            "Prediction: control, Ground truth: dementia\n",
            "Prediction: control, Ground truth: dementia\n",
            "Prediction: dementia, Ground truth: dementia\n",
            "Prediction: dementia, Ground truth: dementia\n",
            "Prediction: control, Ground truth: control\n",
            "Prediction: control, Ground truth: control\n"
          ]
        }
      ]
    },
    {
      "cell_type": "code",
      "source": [
        "print(classification_report(test_gt, test_preds))"
      ],
      "metadata": {
        "colab": {
          "base_uri": "https://localhost:8080/"
        },
        "id": "NUL-DPAiLkVU",
        "outputId": "089a7f13-f5c0-4e77-9ef4-a97953d6d3f5"
      },
      "execution_count": 39,
      "outputs": [
        {
          "output_type": "stream",
          "name": "stdout",
          "text": [
            "              precision    recall  f1-score   support\n",
            "\n",
            "     control       0.75      0.90      0.82        10\n",
            "    dementia       0.88      0.70      0.78        10\n",
            "\n",
            "    accuracy                           0.80        20\n",
            "   macro avg       0.81      0.80      0.80        20\n",
            "weighted avg       0.81      0.80      0.80        20\n",
            "\n"
          ]
        }
      ]
    },
    {
      "cell_type": "markdown",
      "source": [
        "Upload to HuggingFace"
      ],
      "metadata": {
        "id": "ZLorVo0zI2Fg"
      }
    },
    {
      "cell_type": "code",
      "source": [
        "# from huggingface_hub import notebook_login\n",
        "# notebook_login()"
      ],
      "metadata": {
        "id": "fCbgEMtTRljx"
      },
      "execution_count": 40,
      "outputs": []
    },
    {
      "cell_type": "code",
      "source": [
        "# # Push to hub\n",
        "# model.push_to_hub(\"rmezapi/dementia-bank-seq-classif-xlnet\")\n",
        "# tokenizer.push_to_hub(\"rmezapi/dementia-bank-seq-classif-xlnet\")"
      ],
      "metadata": {
        "id": "9FhcMBylRlqS"
      },
      "execution_count": 41,
      "outputs": []
    },
    {
      "cell_type": "markdown",
      "source": [
        "CommitInfo(commit_url='https://huggingface.co/rmezapi/dementia-bank-seq-classif-xlnet/commit/b9bf06695cb6da8fe4039437220a85ed0f57266d', commit_message='Upload tokenizer', commit_description='', oid='b9bf06695cb6da8fe4039437220a85ed0f57266d', pr_url=None, pr_revision=None, pr_num=None)"
      ],
      "metadata": {
        "id": "J0Ut178hM2e7"
      }
    },
    {
      "cell_type": "code",
      "source": [
        "# import requests\n",
        "\n",
        "# API_URL = \"https://api-inference.huggingface.co/models/rmezapi/dementia-bank-seq-classif-xlnet\"\n",
        "# headers = {\"Authorization\": \"Bearer key_here\"}\n",
        "\n",
        "# def query(payload):\n",
        "# \tresponse = requests.post(API_URL, headers=headers, json=payload)\n",
        "# \treturn response.json()\n",
        "\n",
        "# output = query({\n",
        "# \t\"inputs\": \"the water's running on the floor . boy's taking cookies out of cookie outof the cookie jar . the stool is falling open over . the girl was asking for a cookie . the wife is wiping the dish . I guess not .\",\n",
        "# })\n",
        "\n",
        "# print(output)"
      ],
      "metadata": {
        "id": "2zfJ5n0dRlwv"
      },
      "execution_count": 42,
      "outputs": []
    },
    {
      "cell_type": "markdown",
      "source": [],
      "metadata": {
        "id": "Ehw_xR8xM1sV"
      }
    }
  ]
}